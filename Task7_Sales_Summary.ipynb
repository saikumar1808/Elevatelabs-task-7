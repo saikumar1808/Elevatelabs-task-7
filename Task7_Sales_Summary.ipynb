{
 "cells": [
  {
   "cell_type": "markdown",
   "metadata": {},
   "source": [
    "# 🧾 Task 7 - Basic Sales Summary using SQLite and Python\n",
    "\n",
    "This notebook demonstrates how to:\n",
    "- Create a SQLite database\n",
    "- Insert sample sales data\n",
    "- Run SQL queries\n",
    "- Load data into pandas\n",
    "- Plot a bar chart of revenue by product\n"
   ]
  },
  {
   "cell_type": "code",
   "execution_count": 1,
   "metadata": {},
   "outputs": [],
   "source": [
    "# 📦 Step 1: Import necessary libraries\n",
    "import sqlite3\n",
    "import pandas as pd\n",
    "import matplotlib.pyplot as plt"
   ]
  },
  {
   "cell_type": "code",
   "execution_count": 2,
   "metadata": {},
   "outputs": [],
   "source": [
    "# 🗃 Step 2: Create SQLite database and insert sample data\n",
    "conn = sqlite3.connect(\"sales_data.db\")\n",
    "cursor = conn.cursor()\n",
    "\n",
    "# Create table\n",
    "cursor.execute('''\n",
    "CREATE TABLE IF NOT EXISTS sales (\n",
    "    id INTEGER PRIMARY KEY AUTOINCREMENT,\n",
    "    product TEXT,\n",
    "    quantity INTEGER,\n",
    "    price REAL\n",
    ")''')\n",
    "\n",
    "# Insert sample data\n",
    "data = [\n",
    "    ('Apple', 10, 0.5),\n",
    "    ('Banana', 20, 0.2),\n",
    "    ('Orange', 15, 0.3),\n",
    "    ('Apple', 5, 0.5),\n",
    "    ('Banana', 10, 0.2),\n",
    "    ('Orange', 5, 0.3)\n",
    "]\n",
    "cursor.executemany('INSERT INTO sales (product, quantity, price) VALUES (?, ?, ?)', data)\n",
    "conn.commit()"
   ]
  },
  {
   "cell_type": "code",
   "execution_count": 3,
   "metadata": {},
   "outputs": [
    {
     "data": {
      "text/html": [
       "<div>\n",
       "<style scoped>\n",
       "    .dataframe tbody tr th:only-of-type {\n",
       "        vertical-align: middle;\n",
       "    }\n",
       "\n",
       "    .dataframe tbody tr th {\n",
       "        vertical-align: top;\n",
       "    }\n",
       "\n",
       "    .dataframe thead th {\n",
       "        text-align: right;\n",
       "    }\n",
       "</style>\n",
       "<table border=\"1\" class=\"dataframe\">\n",
       "  <thead>\n",
       "    <tr style=\"text-align: right;\">\n",
       "      <th></th>\n",
       "      <th>product</th>\n",
       "      <th>total_qty</th>\n",
       "      <th>revenue</th>\n",
       "    </tr>\n",
       "  </thead>\n",
       "  <tbody>\n",
       "    <tr>\n",
       "      <th>0</th>\n",
       "      <td>Apple</td>\n",
       "      <td>15</td>\n",
       "      <td>7.5</td>\n",
       "    </tr>\n",
       "    <tr>\n",
       "      <th>1</th>\n",
       "      <td>Banana</td>\n",
       "      <td>30</td>\n",
       "      <td>6.0</td>\n",
       "    </tr>\n",
       "    <tr>\n",
       "      <th>2</th>\n",
       "      <td>Orange</td>\n",
       "      <td>20</td>\n",
       "      <td>6.0</td>\n",
       "    </tr>\n",
       "  </tbody>\n",
       "</table>\n",
       "</div>"
      ],
      "text/plain": [
       "  product  total_qty  revenue\n",
       "0   Apple         15      7.5\n",
       "1  Banana         30      6.0\n",
       "2  Orange         20      6.0"
      ]
     },
     "execution_count": 3,
     "metadata": {},
     "output_type": "execute_result"
    }
   ],
   "source": [
    "# 🔍 Step 3: Query the database for sales summary\n",
    "query = '''\n",
    "SELECT product, \n",
    "       SUM(quantity) AS total_qty, \n",
    "       SUM(quantity * price) AS revenue \n",
    "FROM sales \n",
    "GROUP BY product\n",
    "'''\n",
    "df = pd.read_sql_query(query, conn)\n",
    "df"
   ]
  },
  {
   "cell_type": "code",
   "execution_count": 4,
   "metadata": {},
   "outputs": [
    {
     "data": {
      "image/png": "[encoded data removed]",
      "text/plain": [
       "<Figure size 640x480 with 1 Axes>"
      ]
     },
     "metadata": {},
     "output_type": "display_data"
    }
   ],
   "source": [
    "# 📊 Step 4: Plot revenue by product\n",
    "df.plot(kind='bar', x='product', y='revenue', legend=False)\n",
    "plt.title(\"Revenue by Product\")\n",
    "plt.ylabel(\"Revenue\")\n",
    "plt.tight_layout()\n",
    "plt.savefig(\"sales_chart.png\")\n",
    "plt.show()"
   ]
  },
  {
   "cell_type": "code",
   "execution_count": 5,
   "metadata": {},
   "outputs": [],
   "source": [
    "# 🔚 Close connection\n",
    "conn.close()"
   ]
  }
 ],
 "metadata": {
  "kernelspec": {
   "display_name": "Python 3 (ipykernel)",
   "language": "python",
   "name": "python3"
  },
  "language_info": {
   "codemirror_mode": {
    "name": "ipython",
    "version": 3
   },
   "file_extension": ".py",
   "mimetype": "text/x-python",
   "name": "python",
   "nbconvert_exporter": "python",
   "pygments_lexer": "ipython3",
   "version": "3.13.0"
  }
 },
 "nbformat": 4,
 "nbformat_minor": 4
}
